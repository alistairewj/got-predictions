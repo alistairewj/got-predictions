{
 "cells": [
  {
   "cell_type": "code",
   "execution_count": 1,
   "metadata": {
    "collapsed": false
   },
   "outputs": [],
   "source": [
    "from bs4 import BeautifulSoup\n",
    "import urllib\n",
    "import nltk\n",
    "import re\n",
    "from pprint import pprint\n",
    "import csv\n",
    "from collections import OrderedDict\n",
    "import pandas as pd\n",
    "import numpy as np\n",
    "import unicodedata\n",
    "import got_tools as gt\n",
    "from __future__ import print_function"
   ]
  },
  {
   "cell_type": "code",
   "execution_count": 2,
   "metadata": {
    "collapsed": false
   },
   "outputs": [],
   "source": [
    "# load in character list\n",
    "character_list = []\n",
    "char_list = open('data/char_list_s5.txt', 'r')\n",
    "for char in char_list:  \n",
    "    character_list.append(char.replace('\\n',''))\n",
    "    \n",
    "char_list.close()"
   ]
  },
  {
   "cell_type": "code",
   "execution_count": 4,
   "metadata": {
    "collapsed": false
   },
   "outputs": [
    {
     "name": "stdout",
     "output_type": "stream",
     "text": [
      "Name: Arya Stark\n",
      "Season(s): 1, 2, 3, 4, 5, 6\n",
      "First seen: \"Winter is Coming\"\n",
      "Appeared in: 39 episodes (see below)\n",
      "Titles: Princess\n",
      "Also known as: ArryLanna\n",
      "Status: Alive\n",
      "Age: 16 in Season 6[1]\n",
      "Origin: Winterfell\n",
      "Allegiance: House StarkFaceless Men\n",
      "Culture: Northmen\n",
      "Religion: Old Gods of the Forest (formerly)Faith of the Seven (formerly)Many-Faced God\n",
      "Family: {Eddard Stark} - father{Catelyn Stark} - mother{Robb Stark} - brotherSansa Stark - sisterBran Stark - brotherRickon Stark - brother{Jon Snow} - bastard paternal half-brotherBenjen Stark - paternal uncle{Brandon Stark} - paternal uncle{Lyanna Stark} - paternal aunt{Jon Arryn} - uncle by marriagePetyr Baelish - uncle by marriageRoslin Frey - aunt by marriage{Rickard Stark} -  paternal grandfatherBrynden Tully - maternal great-uncle{Hoster Tully} - maternal grandfather{Minisa Tully} - maternal grandmotherEdmure Tully - maternal uncle{Lysa Arryn} - maternal auntRobin Arryn - maternal first cousin{Talisa Maegyr} - sister-in-lawTyrion Lannister - brother-in-lawRamsay Bolton - brother-in-law\n",
      "Portrayed by: Maisie Williams\n",
      "Background text: found!\n",
      "Season 5 text: found!\n",
      "Season 4 text: found!\n",
      "Season 3 text: found!\n",
      "Season 2 text: found!\n",
      "Season 1 text: found!\n"
     ]
    }
   ],
   "source": [
    "# this code block is useful for testing if it worked on an individual character\n",
    "char = 'Arya_Stark'\n",
    "char = char.replace('\\n','') # remove newline sometimes contained in character name\n",
    "\n",
    "\n",
    "# initialize some vars\n",
    "c = {'Season 1': {},\n",
    "    'Season 2': {},\n",
    "    'Season 3': {},\n",
    "    'Season 4': {},\n",
    "    'Season 5': {},\n",
    "    'Background': {}}\n",
    "key_words = [\"Season(s)\", \"First seen\", \"Last seen\", \"Appeared in\", \"Mentioned in\", \"Titles\", \"Also known as\", \"Status\",\n",
    "             \"Age\", \"Date of birth\", \"Death\", \"Origin\", \"Allegiance\", \"Culture\", \"Religion\", \"Family\", \"Portrayed by\"]\n",
    "char_info = {}\n",
    "# initialize dicionary with key words\n",
    "for key in key_words:\n",
    "    char_info[key] = {}\n",
    "char_info['Name'] = {} # since we handle name separately, we decide not to include it in the key_words list\n",
    "\n",
    "# get the data from the wiki page\n",
    "url = 'http://gameofthrones.wikia.com/wiki/' + char\n",
    "page = urllib.urlopen(url)\n",
    "soup = BeautifulSoup(page.read(), \"html.parser\")\n",
    "\n",
    "\n",
    "# Output structured info from the right side of the wiki page\n",
    "print('Name: {}'.format(char.replace('_',' ')))\n",
    "\n",
    "for word in key_words:\n",
    "    keys = soup.find(text=word)\n",
    "    if keys is not None:\n",
    "        value = keys.parent.findNextSibling('div')\n",
    "        if value is not None:\n",
    "            char_info[word][char] = value.text\n",
    "            print('{}: {}'.format(word, value.text))\n",
    "        #TODO: special case for family, create a dictionary\n",
    "\n",
    "\n",
    "# call function to get text data\n",
    "char_c = gt.return_character_dictionary(soup, char, c)\n",
    "\n",
    "for item in char_c:\n",
    "    if char_c[item] is not None:\n",
    "        print('{} text: found!'.format(item))\n",
    "    else:\n",
    "        print('{} text: absent!'.format(item))"
   ]
  },
  {
   "cell_type": "markdown",
   "metadata": {},
   "source": [
    "Now we will loop through all the characters in character list and pull:\n",
    "\n",
    "* semi-structured data from the right side of their wiki page (detailed by a number of key words)\n",
    "* unstructured text data from the background/season sections"
   ]
  },
  {
   "cell_type": "code",
   "execution_count": 5,
   "metadata": {
    "collapsed": false,
    "scrolled": true
   },
   "outputs": [
    {
     "name": "stdout",
     "output_type": "stream",
     "text": [
      "\n",
      "Aeron_Greyjoy .. Areo_Hotah .. Arianne_Martel .. Arya_Stark .. Balon_Greyjoy .. \n",
      "Barristan_Selmy .. Ben_Plumm .. Beric_Dondarrion .. Bowen_Marsh .. Brienne_of_Tarth .. \n",
      "Bronn .. Brynden_Tully .. Cersei_Lannister .. Daario_Naharis .. Daenerys_Targaryen .. \n",
      "Davos_Seaworth .. Doran_Martell .. Ellaria_Sand .. Euron_Greyjoy .. Gendry .. \n",
      "Gerold_Dayne_The_Darkstar .. Pycelle .. Gregor_Clegane .. Grey_Worm .. Griff .. \n",
      "Hizdahr_zo_Loraq .. Jaime_Lannister .. Janos_Slynt .. Jaqen_H'ghar .. Jon_Snow .. \n",
      "Jorah_Mormont .. Kevan_Lannister .. Lady_Stoneheart .. Lancel_Lannister .. Loras_Tyrell .. \n",
      "Lord_Varys .. Mace_Tyrell .. Maester_Aemon .. Mance_Rayder .. Margaery_Tyrell .. \n",
      "Melisandre .. Meryn_Trant .. Missandei .. Myrcella_Baratheon .. Nymeria_Sand .. \n",
      "Obara_Sand .. Olenna_Tyrell .. Olly .. Petyr_Baelish .. Podrick_Payne .. \n",
      "Qyburn .. Ramsay_Bolton .. Rattleshirt .. Reznak_mo_Reznak .. Robin_Arryn .. \n",
      "Roose_Bolton .. Samwell_Tarly .. Sansa_Stark .. Ser_Arys_Oakheart .. Stannis_Baratheon .. \n",
      "High_Sparrow .. Theon_Greyjoy .. Thoros_of_Myr .. Tommen_Baratheon .. Tormund_Giantsbane .. \n",
      "Trystane_Martell .. Tycho_Nestoris .. Tyene_Sand .. Tyrion_Lannister .. Victarion_Greyjoy .. \n",
      "Yara_Greyjoy .. Young_Griff .. "
     ]
    }
   ],
   "source": [
    "# now using the above function, create a dictionary with all our characters and their text data\n",
    "c = {'Season 1': {},\n",
    "    'Season 2': {},\n",
    "    'Season 3': {},\n",
    "    'Season 4': {},\n",
    "    'Season 5': {},\n",
    "    'Background': {}}\n",
    "\n",
    "# at the same time get other structured info\n",
    "key_words = [\"Season(s)\", \"First seen\", \"Last seen\", \"Appeared in\", \"Mentioned in\", \"Titles\", \"Also known as\", \"Status\",\n",
    "             \"Age\", \"Date of birth\", \"Death\", \"Origin\", \"Allegiance\", \"Culture\", \"Religion\", \"Family\", \"Portrayed by\"]\n",
    "\n",
    "info = {}\n",
    "# initialize dicionary with key words\n",
    "for key in key_words:\n",
    "    info[key] = {}\n",
    "info['Name'] = {} # since we handle name separately, we decide not to include it in the key_words list\n",
    "count_char = 1\n",
    "\n",
    "for char in character_list:\n",
    "    char = char.replace('\\n','') # remove newline sometimes contained in character name\n",
    "    \n",
    "    if np.mod( character_list.index(char), 5 ) == 0:\n",
    "        print('') #newline, i.e. only print 5 character names per line\n",
    "    print ('{} .. '.format(char), end=\"\")\n",
    "        \n",
    "    # get the data from the wiki page\n",
    "    url = 'http://gameofthrones.wikia.com/wiki/' + char\n",
    "    page = urllib.urlopen(url)\n",
    "    soup = BeautifulSoup(page.read(), \"html.parser\")\n",
    "    \n",
    "    # Output structured info from the right side of the wiki page\n",
    "    info['Name'][char] = char.replace('_',' ')\n",
    "\n",
    "    for word in key_words:\n",
    "        keys = soup.find(text=word)\n",
    "        if keys is not None:\n",
    "            value = keys.parent.findNextSibling('div')\n",
    "            if value is not None:\n",
    "                info[word][char] = value.text\n",
    "\n",
    "            #TODO: special case for family, create a dictionary\n",
    "    \n",
    "    \n",
    "    # call function to get text data\n",
    "    c = gt.return_character_dictionary(soup, char, c)"
   ]
  },
  {
   "cell_type": "code",
   "execution_count": 6,
   "metadata": {
    "collapsed": false
   },
   "outputs": [],
   "source": [
    "# create data frames of the above\n",
    "df_info_unicode = pd.DataFrame.from_dict(info)\n",
    "df_txt_unicode = pd.DataFrame.from_dict(c, dtype='unicode')"
   ]
  },
  {
   "cell_type": "code",
   "execution_count": 7,
   "metadata": {
    "collapsed": true
   },
   "outputs": [],
   "source": [
    "# convert the unicode dataframe to ascii text - as best we can, this will inevitably remove/alter some characters\n",
    "def convert_text(s):\n",
    "    if str(type(s)) == \"<type 'unicode'>\":\n",
    "        txt = unicodedata.normalize('NFKD', s).encode('ascii','ignore')\n",
    "        return txt.replace(\"\\\\'\", \"'\")  # remove escape characters\n",
    "    else:\n",
    "        return None\n",
    "\n",
    "d = {}\n",
    "for col in df_info_unicode.columns:\n",
    "    d[col] = df_info_unicode[col].apply(convert_text)\n",
    "\n",
    "df_info = pd.DataFrame(d)\n",
    "\n",
    "d = {}\n",
    "for col in df_txt_unicode.columns:\n",
    "    d[col] = df_txt_unicode[col].apply(convert_text)\n",
    "\n",
    "df_txt = pd.DataFrame(d)"
   ]
  },
  {
   "cell_type": "code",
   "execution_count": 10,
   "metadata": {
    "collapsed": false
   },
   "outputs": [
    {
     "data": {
      "text/html": [
       "<div>\n",
       "<table border=\"1\" class=\"dataframe\">\n",
       "  <thead>\n",
       "    <tr style=\"text-align: right;\">\n",
       "      <th></th>\n",
       "      <th>Killing</th>\n",
       "      <th>SexNudity</th>\n",
       "      <th>Insult</th>\n",
       "      <th>Drinking</th>\n",
       "      <th>Injury</th>\n",
       "      <th>Total</th>\n",
       "    </tr>\n",
       "    <tr>\n",
       "      <th>Name</th>\n",
       "      <th></th>\n",
       "      <th></th>\n",
       "      <th></th>\n",
       "      <th></th>\n",
       "      <th></th>\n",
       "      <th></th>\n",
       "    </tr>\n",
       "  </thead>\n",
       "  <tbody>\n",
       "    <tr>\n",
       "      <th>Aeron_Greyjoy</th>\n",
       "      <td>0</td>\n",
       "      <td>0</td>\n",
       "      <td>0</td>\n",
       "      <td>0</td>\n",
       "      <td>0</td>\n",
       "      <td>0</td>\n",
       "    </tr>\n",
       "    <tr>\n",
       "      <th>Areo_Hotah</th>\n",
       "      <td>0</td>\n",
       "      <td>0</td>\n",
       "      <td>7</td>\n",
       "      <td>0</td>\n",
       "      <td>4</td>\n",
       "      <td>11</td>\n",
       "    </tr>\n",
       "    <tr>\n",
       "      <th>Arianne_Martel</th>\n",
       "      <td>0</td>\n",
       "      <td>0</td>\n",
       "      <td>0</td>\n",
       "      <td>0</td>\n",
       "      <td>0</td>\n",
       "      <td>0</td>\n",
       "    </tr>\n",
       "    <tr>\n",
       "      <th>Arya_Stark</th>\n",
       "      <td>18</td>\n",
       "      <td>0</td>\n",
       "      <td>28</td>\n",
       "      <td>0</td>\n",
       "      <td>40</td>\n",
       "      <td>86</td>\n",
       "    </tr>\n",
       "    <tr>\n",
       "      <th>Balon_Greyjoy</th>\n",
       "      <td>0</td>\n",
       "      <td>0</td>\n",
       "      <td>0</td>\n",
       "      <td>0</td>\n",
       "      <td>0</td>\n",
       "      <td>0</td>\n",
       "    </tr>\n",
       "  </tbody>\n",
       "</table>\n",
       "</div>"
      ],
      "text/plain": [
       "                Killing  SexNudity  Insult  Drinking  Injury  Total\n",
       "Name                                                               \n",
       "Aeron_Greyjoy         0          0       0         0       0      0\n",
       "Areo_Hotah            0          0       7         0       4     11\n",
       "Arianne_Martel        0          0       0         0       0      0\n",
       "Arya_Stark           18          0      28         0      40     86\n",
       "Balon_Greyjoy         0          0       0         0       0      0"
      ]
     },
     "execution_count": 10,
     "metadata": {},
     "output_type": "execute_result"
    }
   ],
   "source": [
    "# load in the scores from season 5\n",
    "scores = pd.read_csv('data/season5_scores.csv')\n",
    "scores.head()"
   ]
  },
  {
   "cell_type": "code",
   "execution_count": 11,
   "metadata": {
    "collapsed": false
   },
   "outputs": [],
   "source": [
    "# write data to file\n",
    "df = scores\n",
    "df = df.merge(df_info, left_index=True, right_index=True, how='left')\n",
    "df = df.merge(df_txt, left_index=True, right_index=True, how='left')\n",
    "df.head()\n",
    "\n",
    "df.to_csv('data/got_data.csv')"
   ]
  },
  {
   "cell_type": "markdown",
   "metadata": {
    "collapsed": false
   },
   "source": [
    "The family field in the semi-structured data could be better parsed ... kind of made a start here but didn't get very far.\n",
    "\n",
    "\n",
    "```python\n",
    "# try to parse family\n",
    "value = info['Family']\n",
    "tmp = value.split('{')\n",
    "tmp_dict = {} \n",
    "for tmpval in tmp:\n",
    "    if tmpval == '' or tmpval is None:\n",
    "        continue\n",
    "    \n",
    "    if ' - ' in tmpval:\n",
    "        tmp_dict[ tmpval.split(' - ')[1] ] = tmpval.split('}')[0]\n",
    "        print('{}     tmp_dict[{}] = {}').format(tmpval,  tmpval.split(' - ')[1] , tmpval.split('}')[0])\n",
    "```"
   ]
  }
 ],
 "metadata": {
  "kernelspec": {
   "display_name": "Python 2",
   "language": "python",
   "name": "python2"
  },
  "language_info": {
   "codemirror_mode": {
    "name": "ipython",
    "version": 2
   },
   "file_extension": ".py",
   "mimetype": "text/x-python",
   "name": "python",
   "nbconvert_exporter": "python",
   "pygments_lexer": "ipython2",
   "version": "2.7.11"
  }
 },
 "nbformat": 4,
 "nbformat_minor": 0
}
