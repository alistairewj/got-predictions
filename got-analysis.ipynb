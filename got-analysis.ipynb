{
 "cells": [
  {
   "cell_type": "code",
   "execution_count": 1,
   "metadata": {
    "collapsed": false
   },
   "outputs": [],
   "source": [
    "# Import libraries\n",
    "import numpy as np\n",
    "import pandas as pd\n",
    "import matplotlib.pyplot as plt\n",
    "import re\n",
    "import sys\n",
    "from sklearn.cross_validation import cross_val_predict\n",
    "\n",
    "from sklearn.pipeline import Pipeline\n",
    "\n",
    "# used for train/test splits and cross validation\n",
    "from sklearn.cross_validation import train_test_split\n",
    "from sklearn.grid_search import GridSearchCV\n",
    "\n",
    "# used to impute mean for data and standardize for computational stability\n",
    "from sklearn.preprocessing import Imputer\n",
    "from sklearn.preprocessing import StandardScaler\n",
    "\n",
    "# logistic regression is our favourite model ever\n",
    "from sklearn.linear_model import LinearRegression\n",
    "from sklearn.linear_model import LogisticRegression\n",
    "from sklearn.linear_model import LassoCV\n",
    "\n",
    "# used to calculate AUROC/accuracy\n",
    "from sklearn import metrics\n",
    "\n",
    "# used to create confusion matrix\n",
    "from sklearn.metrics import confusion_matrix\n",
    "from sklearn.cross_validation import cross_val_score\n",
    "\n",
    "# gradient boosting - must download package https://github.com/dmlc/xgboost\n",
    "#import xgboost as xgb\n",
    "\n",
    "# default colours for prettier plots\n",
    "\n",
    "col = [[0.9047, 0.1918, 0.1988],\n",
    "    [0.2941, 0.5447, 0.7494],\n",
    "    [0.3718, 0.7176, 0.3612],\n",
    "    [1.0000, 0.5482, 0.1000],\n",
    "    [0.4550, 0.4946, 0.4722],\n",
    "    [0.6859, 0.4035, 0.2412],\n",
    "    [0.9718, 0.5553, 0.7741],\n",
    "    [0.5313, 0.3359, 0.6523]];\n",
    "marker = ['v','o','d','^','s','o','+']\n",
    "ls = ['-','-','-','-','-','s','--','--']\n",
    "%matplotlib inline\n",
    "\n",
    "from __future__ import print_function"
   ]
  },
  {
   "cell_type": "code",
   "execution_count": 3,
   "metadata": {
    "collapsed": false
   },
   "outputs": [
    {
     "data": {
      "text/html": [
       "<div>\n",
       "<table border=\"1\" class=\"dataframe\">\n",
       "  <thead>\n",
       "    <tr style=\"text-align: right;\">\n",
       "      <th></th>\n",
       "      <th>Killing</th>\n",
       "      <th>SexNudity</th>\n",
       "      <th>Insult</th>\n",
       "      <th>Drinking</th>\n",
       "      <th>Injury</th>\n",
       "      <th>Total</th>\n",
       "      <th>Age</th>\n",
       "      <th>Allegiance</th>\n",
       "      <th>Also known as</th>\n",
       "      <th>Appeared in</th>\n",
       "      <th>...</th>\n",
       "      <th>Religion</th>\n",
       "      <th>Season(s)</th>\n",
       "      <th>Status</th>\n",
       "      <th>Titles</th>\n",
       "      <th>Background</th>\n",
       "      <th>Season 1</th>\n",
       "      <th>Season 2</th>\n",
       "      <th>Season 3</th>\n",
       "      <th>Season 4</th>\n",
       "      <th>Season 5</th>\n",
       "    </tr>\n",
       "    <tr>\n",
       "      <th>Name</th>\n",
       "      <th></th>\n",
       "      <th></th>\n",
       "      <th></th>\n",
       "      <th></th>\n",
       "      <th></th>\n",
       "      <th></th>\n",
       "      <th></th>\n",
       "      <th></th>\n",
       "      <th></th>\n",
       "      <th></th>\n",
       "      <th></th>\n",
       "      <th></th>\n",
       "      <th></th>\n",
       "      <th></th>\n",
       "      <th></th>\n",
       "      <th></th>\n",
       "      <th></th>\n",
       "      <th></th>\n",
       "      <th></th>\n",
       "      <th></th>\n",
       "      <th></th>\n",
       "    </tr>\n",
       "  </thead>\n",
       "  <tbody>\n",
       "    <tr>\n",
       "      <th>Arianne_Martel</th>\n",
       "      <td>0</td>\n",
       "      <td>0</td>\n",
       "      <td>0</td>\n",
       "      <td>0</td>\n",
       "      <td>0</td>\n",
       "      <td>0</td>\n",
       "      <td>NaN</td>\n",
       "      <td>NaN</td>\n",
       "      <td>NaN</td>\n",
       "      <td>NaN</td>\n",
       "      <td>...</td>\n",
       "      <td>NaN</td>\n",
       "      <td>NaN</td>\n",
       "      <td>NaN</td>\n",
       "      <td>NaN</td>\n",
       "      <td>NaN</td>\n",
       "      <td>NaN</td>\n",
       "      <td>NaN</td>\n",
       "      <td>NaN</td>\n",
       "      <td>NaN</td>\n",
       "      <td>NaN</td>\n",
       "    </tr>\n",
       "    <tr>\n",
       "      <th>Ben_Plumm</th>\n",
       "      <td>0</td>\n",
       "      <td>0</td>\n",
       "      <td>0</td>\n",
       "      <td>0</td>\n",
       "      <td>0</td>\n",
       "      <td>0</td>\n",
       "      <td>NaN</td>\n",
       "      <td>NaN</td>\n",
       "      <td>NaN</td>\n",
       "      <td>NaN</td>\n",
       "      <td>...</td>\n",
       "      <td>NaN</td>\n",
       "      <td>NaN</td>\n",
       "      <td>NaN</td>\n",
       "      <td>NaN</td>\n",
       "      <td>NaN</td>\n",
       "      <td>NaN</td>\n",
       "      <td>NaN</td>\n",
       "      <td>NaN</td>\n",
       "      <td>NaN</td>\n",
       "      <td>NaN</td>\n",
       "    </tr>\n",
       "    <tr>\n",
       "      <th>Gerold_Dayne_The_Darkstar</th>\n",
       "      <td>0</td>\n",
       "      <td>0</td>\n",
       "      <td>0</td>\n",
       "      <td>0</td>\n",
       "      <td>0</td>\n",
       "      <td>0</td>\n",
       "      <td>NaN</td>\n",
       "      <td>NaN</td>\n",
       "      <td>NaN</td>\n",
       "      <td>NaN</td>\n",
       "      <td>...</td>\n",
       "      <td>NaN</td>\n",
       "      <td>NaN</td>\n",
       "      <td>NaN</td>\n",
       "      <td>NaN</td>\n",
       "      <td>NaN</td>\n",
       "      <td>NaN</td>\n",
       "      <td>NaN</td>\n",
       "      <td>NaN</td>\n",
       "      <td>NaN</td>\n",
       "      <td>NaN</td>\n",
       "    </tr>\n",
       "    <tr>\n",
       "      <th>Griff</th>\n",
       "      <td>0</td>\n",
       "      <td>0</td>\n",
       "      <td>0</td>\n",
       "      <td>0</td>\n",
       "      <td>0</td>\n",
       "      <td>0</td>\n",
       "      <td>NaN</td>\n",
       "      <td>NaN</td>\n",
       "      <td>NaN</td>\n",
       "      <td>NaN</td>\n",
       "      <td>...</td>\n",
       "      <td>NaN</td>\n",
       "      <td>NaN</td>\n",
       "      <td>NaN</td>\n",
       "      <td>NaN</td>\n",
       "      <td>NaN</td>\n",
       "      <td>NaN</td>\n",
       "      <td>NaN</td>\n",
       "      <td>NaN</td>\n",
       "      <td>NaN</td>\n",
       "      <td>NaN</td>\n",
       "    </tr>\n",
       "    <tr>\n",
       "      <th>Lady_Stoneheart</th>\n",
       "      <td>0</td>\n",
       "      <td>0</td>\n",
       "      <td>0</td>\n",
       "      <td>0</td>\n",
       "      <td>0</td>\n",
       "      <td>0</td>\n",
       "      <td>NaN</td>\n",
       "      <td>NaN</td>\n",
       "      <td>NaN</td>\n",
       "      <td>NaN</td>\n",
       "      <td>...</td>\n",
       "      <td>NaN</td>\n",
       "      <td>NaN</td>\n",
       "      <td>NaN</td>\n",
       "      <td>NaN</td>\n",
       "      <td>NaN</td>\n",
       "      <td>NaN</td>\n",
       "      <td>NaN</td>\n",
       "      <td>NaN</td>\n",
       "      <td>NaN</td>\n",
       "      <td>NaN</td>\n",
       "    </tr>\n",
       "    <tr>\n",
       "      <th>Reznak_mo_Reznak</th>\n",
       "      <td>0</td>\n",
       "      <td>0</td>\n",
       "      <td>0</td>\n",
       "      <td>0</td>\n",
       "      <td>0</td>\n",
       "      <td>0</td>\n",
       "      <td>NaN</td>\n",
       "      <td>NaN</td>\n",
       "      <td>NaN</td>\n",
       "      <td>NaN</td>\n",
       "      <td>...</td>\n",
       "      <td>NaN</td>\n",
       "      <td>NaN</td>\n",
       "      <td>NaN</td>\n",
       "      <td>NaN</td>\n",
       "      <td>NaN</td>\n",
       "      <td>NaN</td>\n",
       "      <td>NaN</td>\n",
       "      <td>NaN</td>\n",
       "      <td>NaN</td>\n",
       "      <td>NaN</td>\n",
       "    </tr>\n",
       "    <tr>\n",
       "      <th>Ser_Arys_Oakheart</th>\n",
       "      <td>0</td>\n",
       "      <td>0</td>\n",
       "      <td>0</td>\n",
       "      <td>0</td>\n",
       "      <td>0</td>\n",
       "      <td>0</td>\n",
       "      <td>NaN</td>\n",
       "      <td>NaN</td>\n",
       "      <td>NaN</td>\n",
       "      <td>NaN</td>\n",
       "      <td>...</td>\n",
       "      <td>NaN</td>\n",
       "      <td>NaN</td>\n",
       "      <td>NaN</td>\n",
       "      <td>NaN</td>\n",
       "      <td>NaN</td>\n",
       "      <td>NaN</td>\n",
       "      <td>NaN</td>\n",
       "      <td>NaN</td>\n",
       "      <td>NaN</td>\n",
       "      <td>NaN</td>\n",
       "    </tr>\n",
       "    <tr>\n",
       "      <th>Young_Griff</th>\n",
       "      <td>0</td>\n",
       "      <td>0</td>\n",
       "      <td>0</td>\n",
       "      <td>0</td>\n",
       "      <td>0</td>\n",
       "      <td>0</td>\n",
       "      <td>NaN</td>\n",
       "      <td>NaN</td>\n",
       "      <td>NaN</td>\n",
       "      <td>NaN</td>\n",
       "      <td>...</td>\n",
       "      <td>NaN</td>\n",
       "      <td>NaN</td>\n",
       "      <td>NaN</td>\n",
       "      <td>NaN</td>\n",
       "      <td>NaN</td>\n",
       "      <td>NaN</td>\n",
       "      <td>NaN</td>\n",
       "      <td>NaN</td>\n",
       "      <td>NaN</td>\n",
       "      <td>NaN</td>\n",
       "    </tr>\n",
       "  </tbody>\n",
       "</table>\n",
       "<p>8 rows × 30 columns</p>\n",
       "</div>"
      ],
      "text/plain": [
       "                           Killing  SexNudity  Insult  Drinking  Injury  \\\n",
       "Name                                                                      \n",
       "Arianne_Martel                   0          0       0         0       0   \n",
       "Ben_Plumm                        0          0       0         0       0   \n",
       "Gerold_Dayne_The_Darkstar        0          0       0         0       0   \n",
       "Griff                            0          0       0         0       0   \n",
       "Lady_Stoneheart                  0          0       0         0       0   \n",
       "Reznak_mo_Reznak                 0          0       0         0       0   \n",
       "Ser_Arys_Oakheart                0          0       0         0       0   \n",
       "Young_Griff                      0          0       0         0       0   \n",
       "\n",
       "                           Total  Age Allegiance Also known as Appeared in  \\\n",
       "Name                                                                         \n",
       "Arianne_Martel                 0  NaN        NaN           NaN         NaN   \n",
       "Ben_Plumm                      0  NaN        NaN           NaN         NaN   \n",
       "Gerold_Dayne_The_Darkstar      0  NaN        NaN           NaN         NaN   \n",
       "Griff                          0  NaN        NaN           NaN         NaN   \n",
       "Lady_Stoneheart                0  NaN        NaN           NaN         NaN   \n",
       "Reznak_mo_Reznak               0  NaN        NaN           NaN         NaN   \n",
       "Ser_Arys_Oakheart              0  NaN        NaN           NaN         NaN   \n",
       "Young_Griff                    0  NaN        NaN           NaN         NaN   \n",
       "\n",
       "                            ...    Religion  Season(s) Status Titles  \\\n",
       "Name                        ...                                        \n",
       "Arianne_Martel              ...         NaN        NaN    NaN    NaN   \n",
       "Ben_Plumm                   ...         NaN        NaN    NaN    NaN   \n",
       "Gerold_Dayne_The_Darkstar   ...         NaN        NaN    NaN    NaN   \n",
       "Griff                       ...         NaN        NaN    NaN    NaN   \n",
       "Lady_Stoneheart             ...         NaN        NaN    NaN    NaN   \n",
       "Reznak_mo_Reznak            ...         NaN        NaN    NaN    NaN   \n",
       "Ser_Arys_Oakheart           ...         NaN        NaN    NaN    NaN   \n",
       "Young_Griff                 ...         NaN        NaN    NaN    NaN   \n",
       "\n",
       "                          Background Season 1 Season 2  Season 3 Season 4  \\\n",
       "Name                                                                        \n",
       "Arianne_Martel                   NaN      NaN      NaN       NaN      NaN   \n",
       "Ben_Plumm                        NaN      NaN      NaN       NaN      NaN   \n",
       "Gerold_Dayne_The_Darkstar        NaN      NaN      NaN       NaN      NaN   \n",
       "Griff                            NaN      NaN      NaN       NaN      NaN   \n",
       "Lady_Stoneheart                  NaN      NaN      NaN       NaN      NaN   \n",
       "Reznak_mo_Reznak                 NaN      NaN      NaN       NaN      NaN   \n",
       "Ser_Arys_Oakheart                NaN      NaN      NaN       NaN      NaN   \n",
       "Young_Griff                      NaN      NaN      NaN       NaN      NaN   \n",
       "\n",
       "                          Season 5  \n",
       "Name                                \n",
       "Arianne_Martel                 NaN  \n",
       "Ben_Plumm                      NaN  \n",
       "Gerold_Dayne_The_Darkstar      NaN  \n",
       "Griff                          NaN  \n",
       "Lady_Stoneheart                NaN  \n",
       "Reznak_mo_Reznak               NaN  \n",
       "Ser_Arys_Oakheart              NaN  \n",
       "Young_Griff                    NaN  \n",
       "\n",
       "[8 rows x 30 columns]"
      ]
     },
     "execution_count": 3,
     "metadata": {},
     "output_type": "execute_result"
    }
   ],
   "source": [
    "df = pd.read_csv('got_data.csv', sep=',', index_col=0)\n",
    "# who do we not have data for?\n",
    "idxNoData = (df['Season(s)'].isnull())\n",
    "df[idxNoData]"
   ]
  },
  {
   "cell_type": "code",
   "execution_count": 4,
   "metadata": {
    "collapsed": true
   },
   "outputs": [],
   "source": [
    "# delete people with no data - they have no scores and never appeared in season 5\n",
    "df = df.loc[~idxNoData]"
   ]
  },
  {
   "cell_type": "code",
   "execution_count": 12,
   "metadata": {
    "collapsed": true
   },
   "outputs": [],
   "source": [
    "plt.hist?"
   ]
  },
  {
   "cell_type": "code",
   "execution_count": 15,
   "metadata": {
    "collapsed": false,
    "scrolled": false
   },
   "outputs": [
    {
     "data": {
      "image/png": "[encoded data removed]",
      "text/plain": [
       "<matplotlib.figure.Figure at 0x1fd8ee48>"
      ]
     },
     "metadata": {},
     "output_type": "display_data"
    },
    {
     "data": {
      "image/png": "[encoded data removed]",
      "text/plain": [
       "<matplotlib.figure.Figure at 0x1f86ecc0>"
      ]
     },
     "metadata": {},
     "output_type": "display_data"
    },
    {
     "data": {
      "image/png": "[encoded data removed]",
      "text/plain": [
       "<matplotlib.figure.Figure at 0x1fd0c048>"
      ]
     },
     "metadata": {},
     "output_type": "display_data"
    },
    {
     "data": {
      "image/png": "[encoded data removed]",
      "text/plain": [
       "<matplotlib.figure.Figure at 0x1fbf7400>"
      ]
     },
     "metadata": {},
     "output_type": "display_data"
    },
    {
     "data": {
      "image/png": "[encoded data removed]",
      "text/plain": [
       "<matplotlib.figure.Figure at 0x1ffd3748>"
      ]
     },
     "metadata": {},
     "output_type": "display_data"
    }
   ],
   "source": [
    "# visualize the data a bit\n",
    "txt_outcome = ['Killing','SexNudity','Insult','Drinking','Injury']\n",
    "for txt in txt_outcome:\n",
    "    plt.figure(figsize=[6,6])\n",
    "    plt.hist(df[txt],bins=range(120),normed=True)\n",
    "    plt.plot([0,120], 1.0/df.shape[0]*np.ones(2), 'k--',lw=2 )\n",
    "    plt.title(txt,fontsize=16)\n",
    "    plt.xlabel('Points',fontsize=14)\n",
    "    plt.ylabel('Fraction of people',fontsize=14)\n",
    "    plt.show()"
   ]
  },
  {
   "cell_type": "code",
   "execution_count": 17,
   "metadata": {
    "collapsed": false
   },
   "outputs": [
    {
     "data": {
      "text/html": [
       "<div>\n",
       "<table border=\"1\" class=\"dataframe\">\n",
       "  <thead>\n",
       "    <tr style=\"text-align: right;\">\n",
       "      <th></th>\n",
       "      <th>Killing</th>\n",
       "      <th>violent_words</th>\n",
       "      <th>number_of_words</th>\n",
       "    </tr>\n",
       "    <tr>\n",
       "      <th>Name</th>\n",
       "      <th></th>\n",
       "      <th></th>\n",
       "      <th></th>\n",
       "    </tr>\n",
       "  </thead>\n",
       "  <tbody>\n",
       "    <tr>\n",
       "      <th>Aeron_Greyjoy</th>\n",
       "      <td>0</td>\n",
       "      <td>0</td>\n",
       "      <td>46</td>\n",
       "    </tr>\n",
       "    <tr>\n",
       "      <th>Areo_Hotah</th>\n",
       "      <td>0</td>\n",
       "      <td>2</td>\n",
       "      <td>56</td>\n",
       "    </tr>\n",
       "    <tr>\n",
       "      <th>Arya_Stark</th>\n",
       "      <td>18</td>\n",
       "      <td>57</td>\n",
       "      <td>4730</td>\n",
       "    </tr>\n",
       "    <tr>\n",
       "      <th>Balon_Greyjoy</th>\n",
       "      <td>0</td>\n",
       "      <td>6</td>\n",
       "      <td>1505</td>\n",
       "    </tr>\n",
       "    <tr>\n",
       "      <th>Barristan_Selmy</th>\n",
       "      <td>72</td>\n",
       "      <td>28</td>\n",
       "      <td>1895</td>\n",
       "    </tr>\n",
       "  </tbody>\n",
       "</table>\n",
       "</div>"
      ],
      "text/plain": [
       "                 Killing  violent_words  number_of_words\n",
       "Name                                                    \n",
       "Aeron_Greyjoy          0              0               46\n",
       "Areo_Hotah             0              2               56\n",
       "Arya_Stark            18             57             4730\n",
       "Balon_Greyjoy          0              6             1505\n",
       "Barristan_Selmy       72             28             1895"
      ]
     },
     "execution_count": 17,
     "metadata": {},
     "output_type": "execute_result"
    }
   ],
   "source": [
    "# calculate the number of words\n",
    "txt_col = ['Background','Season 1','Season 2', 'Season 3', 'Season 4']\n",
    "def count_words(s, phrase):\n",
    "    if s is np.nan:\n",
    "        return 0\n",
    "    else:\n",
    "        return len(re.findall(phrase,s, re.IGNORECASE))\n",
    "\n",
    "def add_data(df_data, column_name, phrase):\n",
    "    txt_col = ['Background','Season 1','Season 2', 'Season 3', 'Season 4']\n",
    "    df_new = df[txt_col].applymap(lambda x: count_words(x,phrase))\n",
    "    df_data[column_name] = df_new[txt_col].sum(axis=1)\n",
    "    return df_data\n",
    "    \n",
    "# make a regression on scores using number of words in each season\n",
    "idxData = np.ones(df.shape[0], dtype=bool)\n",
    "df_data = df.loc[idxData, ['Killing']]\n",
    "\n",
    "df_data = add_data (df_data, 'violent_words','(knight|warrior|sword|axe|spear|kill|murder|fight|assassinate)')\n",
    "df_data = add_data (df_data, 'number_of_words','\\w+')\n",
    "\n",
    "df_data.head()"
   ]
  },
  {
   "cell_type": "code",
   "execution_count": 55,
   "metadata": {
    "collapsed": false
   },
   "outputs": [
    {
     "data": {
      "text/plain": [
       "array([[   0,   46],\n",
       "       [   2,   56],\n",
       "       [  57, 4730],\n",
       "       [   6, 1505],\n",
       "       [  28, 1895]], dtype=int64)"
      ]
     },
     "execution_count": 55,
     "metadata": {},
     "output_type": "execute_result"
    }
   ],
   "source": [
    "X = df_data[idxData].values\n",
    "target = X[:,0]\n",
    "X = X[:,1:X.shape[1]]\n",
    "X[0:5,:]"
   ]
  },
  {
   "cell_type": "code",
   "execution_count": 56,
   "metadata": {
    "collapsed": false
   },
   "outputs": [
    {
     "name": "stdout",
     "output_type": "stream",
     "text": [
      "lr         0.799259 [0.666667, 0.962963]\n"
     ]
    },
    {
     "data": {
      "image/png": "[encoded data removed]",
      "text/plain": [
       "<matplotlib.figure.Figure at 0x1f120c88>"
      ]
     },
     "metadata": {},
     "output_type": "display_data"
    }
   ],
   "source": [
    "# logistic regression\n",
    "y = target > 0\n",
    "\n",
    "\n",
    "# workaround cross_val_predict returning 0s/1s\n",
    "class proba_logreg(LogisticRegression):\n",
    "    def predict(self, X):\n",
    "        return LogisticRegression.predict_proba(self, X)\n",
    "    \n",
    "mdl = \"logreg\"\n",
    "model = LogisticRegression(fit_intercept=True)\n",
    "estimator = Pipeline([(\"imputer\", Imputer(missing_values='NaN',\n",
    "                                      strategy=\"mean\",\n",
    "                                      axis=0)),\n",
    "                  (\"scaler\", StandardScaler()),\n",
    "                  (\"lr\", model)])\n",
    "\n",
    "scores = cross_val_score(estimator, X, y, scoring='roc_auc',cv=5)\n",
    "print('{:10s} {:5g} [{:5g}, {:5g}]'.format(\"lr\", np.mean(scores), np.min(scores), np.max(scores) ))\n",
    "\n",
    "# plot a roc curve\n",
    "predicted = cross_val_predict(proba_logreg(), X, y, cv=10)\n",
    "predicted = predicted[:,1]\n",
    "\n",
    "plt.figure(figsize=[9,9])\n",
    "ax = plt.gca()\n",
    "fpr, tpr, thresholds = metrics.roc_curve(y, predicted, pos_label=1)\n",
    "plt.plot(fpr, tpr, 'bo-',lw=2,markersize=12,\n",
    "        label=mdl + ' ' + '%0.3f' % metrics.auc(fpr, tpr))\n",
    "plt.xlabel('False positive rate',fontsize=14)\n",
    "plt.xlabel('True positive rate',fontsize=14)\n",
    "plt.legend(loc='lower right')\n",
    "plt.show()"
   ]
  },
  {
   "cell_type": "code",
   "execution_count": 47,
   "metadata": {
    "collapsed": false
   },
   "outputs": [
    {
     "name": "stdout",
     "output_type": "stream",
     "text": [
      "logreg 0.780\n"
     ]
    }
   ],
   "source": [
    "print(mdl + ' ' + '%0.3f' % metrics.auc(fpr, tpr))"
   ]
  },
  {
   "cell_type": "code",
   "execution_count": 35,
   "metadata": {
    "collapsed": false
   },
   "outputs": [
    {
     "name": "stdout",
     "output_type": "stream",
     "text": [
      "lr         6.07683 [8.38205, 4.84113]\n"
     ]
    },
    {
     "data": {
      "image/png": "[encoded data removed]",
      "text/plain": [
       "<matplotlib.figure.Figure at 0x1eb966a0>"
      ]
     },
     "metadata": {},
     "output_type": "display_data"
    },
    {
     "data": {
      "image/png": "[encoded data removed]",
      "text/plain": [
       "<matplotlib.figure.Figure at 0x1eaafef0>"
      ]
     },
     "metadata": {},
     "output_type": "display_data"
    }
   ],
   "source": [
    "# linear regression\n",
    "y = target\n",
    "\n",
    "mdl = \"lr\"\n",
    "model = LinearRegression(fit_intercept=True)\n",
    "estimator = Pipeline([(\"imputer\", Imputer(missing_values='NaN',\n",
    "                                      strategy=\"mean\",\n",
    "                                      axis=0)),\n",
    "                  (\"scaler\", StandardScaler()),\n",
    "                  (\"lr\", model)])\n",
    "\n",
    "scores = cross_val_score(estimator, X, y, scoring='median_absolute_error',cv=5)\n",
    "# note that some error metrics are negated in cross_val_score so that all metrics can be maximized for optimization\n",
    "print('{:10s} {:5g} [{:5g}, {:5g}]'.format(\"lr\", -np.mean(scores), -np.min(scores), -np.max(scores) ))\n",
    "\n",
    "predicted = cross_val_predict(model, X, y, cv=10)\n",
    "\n",
    "plt.figure(figsize=[9,9])\n",
    "ax = plt.gca()\n",
    "ax.scatter(y, predicted)\n",
    "ax.plot([y.min(), y.max()], [y.min(), y.max()], 'k--', lw=4)\n",
    "ax.set_xlabel('Measured')\n",
    "ax.set_ylabel('Predicted')\n",
    "plt.show()\n",
    "\n",
    "plt.figure(figsize=[9,9])\n",
    "plt.hist(y - predicted)\n",
    "plt.show()"
   ]
  },
  {
   "cell_type": "code",
   "execution_count": 44,
   "metadata": {
    "collapsed": false
   },
   "outputs": [
    {
     "data": {
      "image/png": "[encoded data removed]",
      "text/plain": [
       "<matplotlib.figure.Figure at 0x1e179978>"
      ]
     },
     "metadata": {},
     "output_type": "display_data"
    },
    {
     "data": {
      "image/png": "[encoded data removed]",
      "text/plain": [
       "<matplotlib.figure.Figure at 0x1ddab908>"
      ]
     },
     "metadata": {},
     "output_type": "display_data"
    }
   ],
   "source": [
    "y = np.log10(target+1)\n",
    "estimator = Pipeline([(\"imputer\", Imputer(missing_values='NaN',\n",
    "                                          strategy=\"mean\",\n",
    "                                          axis=0)),\n",
    "                      (\"scaler\", StandardScaler()),\n",
    "                      (mdl, models[mdl])])\n",
    "\n",
    "predicted = cross_val_predict(LinearRegression(fit_intercept=True), X, y, cv=10)\n",
    "\n",
    "plt.figure(figsize=[9,9])\n",
    "ax = plt.gca()\n",
    "ax.scatter(y, predicted)\n",
    "ax.plot([y.min(), y.max()], [y.min(), y.max()], 'k--', lw=4)\n",
    "ax.set_xlabel('Measured')\n",
    "ax.set_ylabel('Predicted')\n",
    "plt.show()\n",
    "\n",
    "plt.figure(figsize=[9,9])\n",
    "plt.hist(y - predicted)\n",
    "plt.show()"
   ]
  },
  {
   "cell_type": "code",
   "execution_count": null,
   "metadata": {
    "collapsed": true
   },
   "outputs": [],
   "source": []
  }
 ],
 "metadata": {
  "kernelspec": {
   "display_name": "Python 2",
   "language": "python",
   "name": "python2"
  },
  "language_info": {
   "codemirror_mode": {
    "name": "ipython",
    "version": 2
   },
   "file_extension": ".py",
   "mimetype": "text/x-python",
   "name": "python",
   "nbconvert_exporter": "python",
   "pygments_lexer": "ipython2",
   "version": "2.7.11"
  }
 },
 "nbformat": 4,
 "nbformat_minor": 0
}
